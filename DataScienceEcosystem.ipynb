{
 "cells": [
  {
   "cell_type": "markdown",
   "id": "23afdb52-5b63-4962-9ea4-c42b362dfa60",
   "metadata": {},
   "source": [
    "# Data Science Tools and Ecosystem"
   ]
  },
  {
   "cell_type": "markdown",
   "id": "b9fb89b8-1ec0-4c46-9b16-a93f9eb237b5",
   "metadata": {},
   "source": [
    "In this notebook, Data Science Tools and Ecosystem are summarized."
   ]
  },
  {
   "cell_type": "markdown",
   "id": "d265ea9e-732d-4c75-b799-acc06fea9e8b",
   "metadata": {},
   "source": [
    "**Objectives:**\n",
    "- List popular languages for Data Science\n",
    "- List common libraries used by Data Scientists\n",
    "- Use a markdown table to show data science tools\n",
    "- show examples of arithmetic expresssions"
   ]
  },
  {
   "cell_type": "markdown",
   "id": "66dcbb9d-6c4a-41da-85d4-e2678596e2e5",
   "metadata": {},
   "source": [
    "Some of the popular languages that Data Scientists use are:\n",
    "1. Python\n",
    "2. R\n",
    "3. SQL"
   ]
  },
  {
   "cell_type": "markdown",
   "id": "2f2a90a0-1cd9-4662-87c0-35ab5022068b",
   "metadata": {},
   "source": [
    "Some of the commonly used libraries used by Data Scientists include:\n",
    "1. NumPy\n",
    "2. pandas\n",
    "3. PyTorch"
   ]
  },
  {
   "cell_type": "markdown",
   "id": "d202cee2-bcf3-4061-9724-ab542787773d",
   "metadata": {},
   "source": [
    "| Data Science Tools | \n",
    "| :- | \n",
    "| Data Management Tools |\n",
    "| Data Integration and Transformation Tools | \n",
    "| Data Visualization Tools | "
   ]
  },
  {
   "cell_type": "markdown",
   "id": "86b43702-0ca1-4029-b71f-6d9703b932ce",
   "metadata": {},
   "source": [
    "### Below are a few examples of evaluating arithmetic expressions in Python"
   ]
  },
  {
   "cell_type": "code",
   "execution_count": 32,
   "id": "685a4cd0-0c51-4e12-b7e6-d9a24b5df22c",
   "metadata": {},
   "outputs": [
    {
     "data": {
      "text/plain": [
       "17"
      ]
     },
     "execution_count": 32,
     "metadata": {},
     "output_type": "execute_result"
    }
   ],
   "source": [
    "#This a simple arithmetic expression to mutiply then add integers\n",
    "(3*4)+5"
   ]
  },
  {
   "cell_type": "code",
   "execution_count": 34,
   "id": "40b99233-550f-45bf-a4ee-f05d74e3d414",
   "metadata": {},
   "outputs": [
    {
     "data": {
      "text/plain": [
       "3.3333333333333335"
      ]
     },
     "execution_count": 34,
     "metadata": {},
     "output_type": "execute_result"
    }
   ],
   "source": [
    "#This will convert 200 minutes to hours by diving by 60\n",
    "200/60"
   ]
  },
  {
   "cell_type": "markdown",
   "id": "eaea016b-76e5-40a8-84bf-ba9f4701cd11",
   "metadata": {},
   "source": [
    "## Author\n",
    "Greg Gunther"
   ]
  },
  {
   "cell_type": "code",
   "execution_count": null,
   "id": "e9715330-59b1-4d4c-9ecf-3fc25369588f",
   "metadata": {},
   "outputs": [],
   "source": []
  }
 ],
 "metadata": {
  "kernelspec": {
   "display_name": "Python [conda env:GLG_env]",
   "language": "python",
   "name": "conda-env-GLG_env-py"
  },
  "language_info": {
   "codemirror_mode": {
    "name": "ipython",
    "version": 3
   },
   "file_extension": ".py",
   "mimetype": "text/x-python",
   "name": "python",
   "nbconvert_exporter": "python",
   "pygments_lexer": "ipython3",
   "version": "3.12.9"
  }
 },
 "nbformat": 4,
 "nbformat_minor": 5
}
